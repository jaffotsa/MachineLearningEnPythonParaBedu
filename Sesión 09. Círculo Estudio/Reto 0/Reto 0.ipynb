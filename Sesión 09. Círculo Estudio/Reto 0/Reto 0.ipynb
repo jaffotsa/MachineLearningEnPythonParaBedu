{
 "cells": [
  {
   "cell_type": "markdown",
   "metadata": {},
   "source": [
    "# Reto 0. Calentamiento\n",
    "Este reto es meramente un calentamiento de programación, como un preámbulo para la sesión que ya comienza. Sigue las instrucciones. "
   ]
  },
  {
   "cell_type": "markdown",
   "metadata": {},
   "source": [
    "## Ejercicio 1\n",
    "El reto consiste en generar uan función que te permita generar el porcentaje de masa erigida de la tierra que le corresponde a los siguientes países:\n",
    "- Rusia: 17098242 km^2\n",
    "- USA: 9372610 km^2\n",
    "- Iran: 1648195 km^2\n",
    "\n",
    "Ten en cuenta que la masa total erigida del mundo es de 148,940,000 Km^2"
   ]
  },
  {
   "cell_type": "markdown",
   "metadata": {},
   "source": [
    "## Ejercicio 2\n",
    "Ahora deberá generar una función que compruebe si un número es primo o no, y deberá imprimir un True si lo es, y un False caso inverso. Pruebe para los números 3 y 5; y para 4 y 6. (Leer más sobre números primos: https://es.wikipedia.org/wiki/N%C3%BAmero_primo)"
   ]
  }
 ],
 "metadata": {
  "kernelspec": {
   "display_name": "Python 3",
   "language": "python",
   "name": "python3"
  },
  "language_info": {
   "codemirror_mode": {
    "name": "ipython",
    "version": 3
   },
   "file_extension": ".py",
   "mimetype": "text/x-python",
   "name": "python",
   "nbconvert_exporter": "python",
   "pygments_lexer": "ipython3",
   "version": "3.7.4"
  }
 },
 "nbformat": 4,
 "nbformat_minor": 4
}
