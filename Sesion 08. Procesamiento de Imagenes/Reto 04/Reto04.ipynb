{
 "cells": [
  {
   "cell_type": "markdown",
   "metadata": {},
   "source": [
    "# Reto 04 (opcional)\n",
    "A continuación tiene ante usted una carpeta root con 3 subcarpetas:\n",
    "- circles\n",
    "- squares\n",
    "- triangles\n",
    "Es decir, tiene 3 tipos de figuras (circulos, cuadrados, traingulos). El reto consiste en generar una red neuronal que sea capaz de clasificar lo más precisamente a una nueva imagen dentro de las 3 posibles clasificaciones. OJO: Esta red neurunal es distinta a las que hemos venido generando a lo largo de los módulos, así que ponga cuidado a las pistas que se irán presentando a lo alrgo de cada paso. El link de la data es este: https://drive.google.com/drive/folders/1v2xjUC7J9HL8_ZGN7fatmAgl-4bG_qaG?usp=sharing Éxito."
   ]
  },
  {
   "cell_type": "markdown",
   "metadata": {},
   "source": [
    "## Paso 01\n",
    "Use os.path para decirle a Python que vamos a trabajar como root no sobre la misma carpeta donde está este jupyter, sino sobre la que se llama 'shapes'"
   ]
  },
  {
   "cell_type": "markdown",
   "metadata": {},
   "source": [
    "## Paso 02\n",
    "Lo que debe generar a continuación es ingenioso. Debe crear un 'Cuadro de Datos' pero ojo, no es literalmente un pandas.DataFrame, sino una lista de directorios separados entre sí que contenga:\n",
    "- Una columna que se llame 'Filepath' que contenga '\\shapes\\shapes\\triangle\\frawing(01).png'\n",
    "- Una columna que se llame 'Label' que contenga a que carpeta pertenece (e.g. 'triangles')\n",
    "\n",
    "incluso le ayudo poniendole un template, usted continue\n",
    "\n",
    "filepaths = list(###))\n",
    "labels = list(map(lambda x: ### (os.path.split(x)[0])[1], filepaths))\n",
    "\n",
    "filepaths = pd.Series(filepaths, ### ).astype(str)\n",
    "labels = ###\n",
    "\n",
    "image_df = pd.concat([###, ###], axis=1)\n",
    "\n",
    "train_df, test_df = train_test_split(#############)\n"
   ]
  },
  {
   "cell_type": "markdown",
   "metadata": {},
   "source": [
    "## Paso 03\n",
    "Prueba su train_df y su test_df para comprobar que su algoritmo si funciono con un simple train_df para desplegar el inicio del mismo en pantalla"
   ]
  },
  {
   "cell_type": "markdown",
   "metadata": {},
   "source": [
    "## Paso 03\n",
    "Inicialise dos variables llamadas:\n",
    "- train_generator\n",
    "- test_generator\n",
    "\n",
    "Dentro de cada uno va a usar tf.keras.preprocessing.image.ImageDataGenerator para generar un real-time data augmentation para el training y testing de la red. Dentro de la de train use rescale=1./255 y validation_split=0.2; para el caso de test solo use rescale. OJO: aún no es necesario entrenar, solo inicialice las variables"
   ]
  },
  {
   "cell_type": "markdown",
   "metadata": {},
   "source": [
    "## Paso 04\n",
    "Ahora genere 3 variables que se van a llamar:\n",
    "- train_images\n",
    "- val_images\n",
    "\n",
    "Dentro de cada uno, usted usará los siguientes argumentos de la función train_generator.flow_from_dataframe:\n",
    "- dataframe=train_df,\n",
    "- x_col='Filepath',\n",
    "- y_col='Label',\n",
    "- target_size=(28, 28),\n",
    "- color_mode='grayscale',\n",
    "- class_mode='categorical',\n",
    "- batch_size=32,\n",
    "- shuffle=True,\n",
    "- seed=42,\n",
    "- subset='training'"
   ]
  },
  {
   "cell_type": "markdown",
   "metadata": {},
   "source": [
    "## Paso 05\n",
    "Ahora genere una variable llamada test_images que dentro de test_generator.flow_from_dataframe, deberá contener argumentos similares a los que acaba de usar, pero no exactamente iguales para algunos puntos. Use la documentación de tensorflow y pida ayuda del profesor para este paso si así lo requiere usted"
   ]
  },
  {
   "cell_type": "markdown",
   "metadata": {},
   "source": [
    "## Paso 06\n",
    "Ahora, usted deberá estimar su modelo de red neuronal con keras. Le doy unos hints:\n",
    "- Use 9 layers. todas deben definirse al principio como 'x', salvo la primera (que se llamará inputs) y la última (que se llamará outputs)\n",
    "- El primer layer debe llamarse 'inputs' y debe contener  tf.keras.Input y ahí pondrás el shape indicado de (28,28,1)\n",
    "- El segundo layer debe contener tf.keras.layers.Conv2D(filters=6, kernel_size=(3, 3), activation='relu')(inputs)\n",
    "- El tercero debe contener tf.keras.layers.MaxPooling2D()(x)\n",
    "- El cuarto es identico al segundo pero al final cambie (inputs) por (x)\n",
    "- El quinto es igual al tercero\n",
    "- El sexto es identico al tercero pero use GlobalAveragePooling2D\n",
    "- El septimo y octavo es una layer que usted ya sabe especificar: layers.dense y dentro de cada una, 64 nodos, metodo lineal. al final de cada layer escriba (x)\n",
    "- El layer 'outputs' es como el 7mo y 8vo pero con 3 neuronas, metodo softmax y (x) al final"
   ]
  },
  {
   "cell_type": "markdown",
   "metadata": {},
   "source": [
    "## Paso 07\n",
    "Compruebe que su red funciona con la siguiente línea: model = tf.keras.Model(inputs=inputs, outputs=outputs)"
   ]
  },
  {
   "cell_type": "markdown",
   "metadata": {},
   "source": [
    "## Paso 08\n",
    "Compile su red. Use los siguientes argumentos:\n",
    "- Use el optimizador adam\n",
    "- use en loss categoreical_crossentropy\n",
    "- use en metrics accuracy"
   ]
  },
  {
   "cell_type": "markdown",
   "metadata": {},
   "source": [
    "## Paso 09\n",
    "Ahora enbone sus datos de training en la red. Use los siguientes hints:\n",
    "- defina una variable llamada 'history' donde va a aguardar su model.fit \n",
    "- enbone ocmo training data set a training_images\n",
    "- como argumento validation, iguale a val_images\n",
    "- use 100 epochs o iteraciones\n",
    "- use el argumento callbacks e igualelo con lo siguiente: callbacks=[\n",
    "        tf.keras.callbacks.ModelCheckpoint('./model.h5', save_best_only=True, save_weights_only=True)\n",
    "    ]"
   ]
  },
  {
   "cell_type": "markdown",
   "metadata": {},
   "source": [
    "## Paso 10\n",
    "Genere un output con la siguiente línea: model.load_weights('./model.h5')"
   ]
  },
  {
   "cell_type": "markdown",
   "metadata": {},
   "source": [
    "## Paso 11\n",
    "Evalue la precisión de la red"
   ]
  },
  {
   "cell_type": "markdown",
   "metadata": {},
   "source": [
    "# Paso 12 (opcional)\n",
    "Cargue de nuevo el modelo con model.h5"
   ]
  }
 ],
 "metadata": {
  "kernelspec": {
   "display_name": "Python 3",
   "language": "python",
   "name": "python3"
  },
  "language_info": {
   "codemirror_mode": {
    "name": "ipython",
    "version": 3
   },
   "file_extension": ".py",
   "mimetype": "text/x-python",
   "name": "python",
   "nbconvert_exporter": "python",
   "pygments_lexer": "ipython3",
   "version": "3.7.4"
  }
 },
 "nbformat": 4,
 "nbformat_minor": 4
}
