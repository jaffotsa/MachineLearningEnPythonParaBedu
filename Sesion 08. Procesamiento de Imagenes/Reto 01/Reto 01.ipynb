{
 "cells": [
  {
   "cell_type": "markdown",
   "metadata": {},
   "source": [
    "# Reto 01\n",
    "Jaffet León Chávez, Bedu\n",
    "\n",
    "A continuación vas a modificar y manipular los canales RGB de tres imagenes (una foto de Freddie Mercury en el gran concierto de Wembley Stadium del 12 de julio de 1986; la foto de un Jaguar, y un poster de la banda Queen). Lee con atención cada paso y realiza a detalle lo que se te pide. Éxito."
   ]
  },
  {
   "cell_type": "code",
   "execution_count": 3,
   "metadata": {},
   "outputs": [],
   "source": [
    "import cv2\n",
    "import numpy as np\n",
    "from matplotlib import pyplot as plt"
   ]
  },
  {
   "cell_type": "markdown",
   "metadata": {},
   "source": [
    "## Paso 01\n",
    "Este paso es sencillo. Solo debes cargar las 3 imagenes (las dos de Queen y la del Jaguar) y haz que se deslpieguen en pantalla una despues de la otra (Cargalas en pedazos de código separados)"
   ]
  },
  {
   "cell_type": "code",
   "execution_count": 4,
   "metadata": {},
   "outputs": [],
   "source": []
  },
  {
   "cell_type": "code",
   "execution_count": null,
   "metadata": {},
   "outputs": [],
   "source": []
  },
  {
   "cell_type": "code",
   "execution_count": null,
   "metadata": {},
   "outputs": [],
   "source": []
  },
  {
   "cell_type": "code",
   "execution_count": null,
   "metadata": {},
   "outputs": [],
   "source": []
  },
  {
   "cell_type": "markdown",
   "metadata": {},
   "source": [
    "## Paso 02\n",
    "A continuación debes aplicar los filtros de color rojo, verde y azul a cada una de las imagenes. Hazlo en 3 distintos pedazos de código distintos (no importa que las imagenes se apilen). Adelante"
   ]
  },
  {
   "cell_type": "code",
   "execution_count": null,
   "metadata": {},
   "outputs": [],
   "source": []
  },
  {
   "cell_type": "markdown",
   "metadata": {},
   "source": [
    "## Paso 03\n",
    "Ahora combina los canales:\n",
    "- rojo y azul\n",
    "- verde y azul\n",
    "\n",
    "Aplicalo a las 3 imagenes. Usa 4 pedazos de códigos distinto:\n",
    "- 1 para definir los canales RGB de color\n",
    "- Otros 3, uno para cada imagen\n",
    "Adelante"
   ]
  },
  {
   "cell_type": "code",
   "execution_count": 7,
   "metadata": {},
   "outputs": [],
   "source": [
    "# Definamos canales\n"
   ]
  },
  {
   "cell_type": "code",
   "execution_count": 6,
   "metadata": {},
   "outputs": [],
   "source": [
    "# Freddie\n"
   ]
  },
  {
   "cell_type": "code",
   "execution_count": 5,
   "metadata": {},
   "outputs": [],
   "source": [
    "# Jaguar\n"
   ]
  },
  {
   "cell_type": "code",
   "execution_count": 4,
   "metadata": {},
   "outputs": [],
   "source": [
    "# Queen\n"
   ]
  }
 ],
 "metadata": {
  "kernelspec": {
   "display_name": "Python 3",
   "language": "python",
   "name": "python3"
  },
  "language_info": {
   "codemirror_mode": {
    "name": "ipython",
    "version": 3
   },
   "file_extension": ".py",
   "mimetype": "text/x-python",
   "name": "python",
   "nbconvert_exporter": "python",
   "pygments_lexer": "ipython3",
   "version": "3.7.4"
  }
 },
 "nbformat": 4,
 "nbformat_minor": 4
}
